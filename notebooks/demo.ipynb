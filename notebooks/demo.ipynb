{
 "cells": [
  {
   "cell_type": "code",
   "execution_count": 1,
   "id": "4032d086-3eaf-48d3-8adf-5c350afc06d6",
   "metadata": {},
   "outputs": [
    {
     "name": "stdout",
     "output_type": "stream",
     "text": [
      "Indexing codebase TengHu/auto_coder\n",
      "Indexing bot.py\n",
      "Indexing rag.py\n"
     ]
    }
   ],
   "source": [
    "import os\n",
    "import sys\n",
    "\n",
    "parent_directory = os.path.abspath('..')\n",
    "sys.path.append(parent_directory)\n",
    "\n",
    "from actionweaver.llms import patch\n",
    "from langchain_community.utilities.github import GitHubAPIWrapper\n",
    "from langsmith.run_helpers import traceable\n",
    "\n",
    "\n",
    "from bot import AutoCoder\n",
    "from rag import RepositoryIndex\n",
    "\n",
    "\n",
    "\n",
    "github_repository = \"TengHu/auto_coder\"\n",
    "github_api = GitHubAPIWrapper(\n",
    "    github_repository=github_repository,\n",
    "    github_app_id=os.environ[\"GITHUB_APP_ID\"],\n",
    "    github_app_private_key=os.environ[\"GITHUB_APP_PRIVATE_KEY\"],\n",
    ")\n",
    "\n",
    "index = RepositoryIndex(github_api, github_repository)\n"
   ]
  },
  {
   "cell_type": "code",
   "execution_count": 2,
   "id": "5137b4db-2208-4faf-a479-17076da18e9a",
   "metadata": {},
   "outputs": [
    {
     "name": "stdout",
     "output_type": "stream",
     "text": [
      "[System] Branch 'aw_demo_bot_v1' created successfully, and set as current active branch.\n",
      "There are currently no open issues in the GitHub repository.\n"
     ]
    }
   ],
   "source": [
    "auto_coder = AutoCoder(github_api, index)\n",
    "res = auto_coder(\"What are the open issues?\")"
   ]
  },
  {
   "cell_type": "code",
   "execution_count": null,
   "id": "bad6fbc4-e66a-408e-867d-b617b6703275",
   "metadata": {},
   "outputs": [],
   "source": [
    "print(res)"
   ]
  },
  {
   "cell_type": "code",
   "execution_count": null,
   "id": "73751d5b-cfaa-4885-8445-746a551da29c",
   "metadata": {},
   "outputs": [],
   "source": []
  },
  {
   "cell_type": "code",
   "execution_count": null,
   "id": "20cb5997-09b6-495e-9a43-007ee6feb2d6",
   "metadata": {},
   "outputs": [],
   "source": []
  },
  {
   "cell_type": "code",
   "execution_count": null,
   "id": "ebf37cd7-47c8-4fff-bb73-24b5303d9a45",
   "metadata": {},
   "outputs": [],
   "source": []
  }
 ],
 "metadata": {
  "kernelspec": {
   "display_name": "Python 3 (ipykernel)",
   "language": "python",
   "name": "python3"
  },
  "language_info": {
   "codemirror_mode": {
    "name": "ipython",
    "version": 3
   },
   "file_extension": ".py",
   "mimetype": "text/x-python",
   "name": "python",
   "nbconvert_exporter": "python",
   "pygments_lexer": "ipython3",
   "version": "3.9.18"
  }
 },
 "nbformat": 4,
 "nbformat_minor": 5
}
